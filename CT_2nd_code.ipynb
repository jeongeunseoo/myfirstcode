{
  "nbformat": 4,
  "nbformat_minor": 0,
  "metadata": {
    "colab": {
      "provenance": [],
      "authorship_tag": "ABX9TyOkWs55pIknJ76RNuLyhW+m",
      "include_colab_link": true
    },
    "kernelspec": {
      "name": "python3",
      "display_name": "Python 3"
    },
    "language_info": {
      "name": "python"
    }
  },
  "cells": [
    {
      "cell_type": "markdown",
      "metadata": {
        "id": "view-in-github",
        "colab_type": "text"
      },
      "source": [
        "<a href=\"https://colab.research.google.com/github/jeongeunseoo/myfirstcode/blob/main/CT_2nd_code.ipynb\" target=\"_parent\"><img src=\"https://colab.research.google.com/assets/colab-badge.svg\" alt=\"Open In Colab\"/></a>"
      ]
    },
    {
      "cell_type": "markdown",
      "source": [
        "2. 사용자로부터 3개의 변수를 입력받아서 합을 구하고, 평균을 구하는 코드\n",
        " - 변수는 : n1, n2, n3, total, average"
      ],
      "metadata": {
        "id": "JfTPS7HulXs1"
      }
    },
    {
      "cell_type": "code",
      "source": [
        "n1 = int(input(\"n1의 값을 입력하시오.: \"))\n",
        "n2 = int(input(\"n2의 값을 입력하시오.: \"))\n",
        "n3 = int(input(\"n3의 값을 입력하시오.: \"))\n",
        "total = n1 + n2 + n3\n",
        "print('합계는 :', total)\n",
        "average = total / 3\n",
        "print('평균은 :', average)"
      ],
      "metadata": {
        "colab": {
          "base_uri": "https://localhost:8080/"
        },
        "id": "fVYJsoFBmcLW",
        "outputId": "b33c4410-27cf-44b8-abde-1788a5f7b8fa"
      },
      "execution_count": 2,
      "outputs": [
        {
          "output_type": "stream",
          "name": "stdout",
          "text": [
            "n1의 값을 입력하시오.: 50\n",
            "n2의 값을 입력하시오.: 60\n",
            "n3의 값을 입력하시오.: 70\n",
            "합계는 : 180\n",
            "평균은 : 60.0\n"
          ]
        }
      ]
    },
    {
      "cell_type": "markdown",
      "source": [],
      "metadata": {
        "id": "tHufGu6-mgCl"
      }
    }
  ]
}